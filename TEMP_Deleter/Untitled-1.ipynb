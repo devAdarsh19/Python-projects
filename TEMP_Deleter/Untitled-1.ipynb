{
 "cells": [
  {
   "cell_type": "code",
   "execution_count": 1,
   "metadata": {},
   "outputs": [],
   "source": [
    "import os"
   ]
  },
  {
   "cell_type": "code",
   "execution_count": 2,
   "metadata": {},
   "outputs": [],
   "source": [
    "os.mkdir('./newfolder')"
   ]
  },
  {
   "cell_type": "code",
   "execution_count": 3,
   "metadata": {},
   "outputs": [
    {
     "name": "stdout",
     "output_type": "stream",
     "text": [
      "['HI']\n"
     ]
    }
   ],
   "source": [
    "filepath = './newfolder/r.txt'\n",
    "file = open(filepath, 'w')\n",
    "file.write('HI')\n",
    "file.close()\n",
    "\n",
    "file = open(filepath)\n",
    "lst = file.readlines()\n",
    "file.close()\n",
    "print(lst)"
   ]
  },
  {
   "cell_type": "code",
   "execution_count": 4,
   "metadata": {},
   "outputs": [
    {
     "name": "stdout",
     "output_type": "stream",
     "text": [
      "['HISayonara']\n"
     ]
    }
   ],
   "source": [
    "file = open(filepath, 'a')\n",
    "file.write('Sayonara')\n",
    "file.close()\n",
    "\n",
    "file = open(filepath)\n",
    "lst = file.readlines()\n",
    "file.close()\n",
    "print(lst)"
   ]
  },
  {
   "cell_type": "code",
   "execution_count": 5,
   "metadata": {},
   "outputs": [],
   "source": [
    "for i in range(1, 5):\n",
    "    file = open(f'./newfolder/file{i}.txt', 'w')\n",
    "    file.write(f'My file number is {i}')\n",
    "    file.close()"
   ]
  },
  {
   "cell_type": "code",
   "execution_count": 15,
   "metadata": {},
   "outputs": [],
   "source": [
    "files_to_del = os.listdir('./newfolder')"
   ]
  },
  {
   "cell_type": "code",
   "execution_count": 16,
   "metadata": {},
   "outputs": [
    {
     "name": "stdout",
     "output_type": "stream",
     "text": [
      "[]\n"
     ]
    }
   ],
   "source": [
    "for file in files_to_del:\n",
    "    os.remove(os.path.join('./newfolder', file))\n",
    "    \n",
    "print(os.listdir('./newfolder'))"
   ]
  },
  {
   "cell_type": "code",
   "execution_count": 38,
   "metadata": {},
   "outputs": [
    {
     "data": {
      "text/plain": [
       "'C:/Users/ADMIN/AppData/Local/Temp'"
      ]
     },
     "execution_count": 38,
     "metadata": {},
     "output_type": "execute_result"
    }
   ],
   "source": [
    "temp_folder = r'C:\\Users\\ADMIN\\AppData\\Local\\Temp'\n",
    "temp_folder.replace('\\\\', '/')"
   ]
  },
  {
   "cell_type": "code",
   "execution_count": 53,
   "metadata": {},
   "outputs": [
    {
     "name": "stdout",
     "output_type": "stream",
     "text": [
      "<nt.ScandirIterator object at 0x000001C4D8781130>\n"
     ]
    }
   ],
   "source": [
    "temp_files = os.scandir(temp_folder)\n",
    "print(temp_files)"
   ]
  },
  {
   "cell_type": "code",
   "execution_count": 57,
   "metadata": {},
   "outputs": [
    {
     "name": "stdout",
     "output_type": "stream",
     "text": [
      "All files deleted succesfully\n"
     ]
    }
   ],
   "source": [
    "try:\n",
    "    with temp_files as entries:\n",
    "        for entry in entries:\n",
    "            if entry.is_file() or entry.is_dir():\n",
    "                os.unlink(entry.path)\n",
    "    print(\"All files deleted succesfully\")\n",
    "except OSError:\n",
    "    print(\"Could not delete\")"
   ]
  },
  {
   "cell_type": "code",
   "execution_count": 59,
   "metadata": {},
   "outputs": [
    {
     "name": "stdout",
     "output_type": "stream",
     "text": [
      "['01cfb402-d876-49e2-955c-c31376aeae79.tmp', '11a2f403-a89a-4044-bbbf-3be0af00faa1.tmp', '1CR21EC233_VAISHNAVIRB_RESUME ', '1fbaf05d-12c5-4d39-bb19-714271cb5270.tmp', '26c484fd-b355-4cc3-8b52-e5cf960a4ba9.tmp', '27820a96-afc6-4016-ac18-fb6e8b66489a.tmp', '28763d54-1684-44f5-be6e-b926ca96e828.tmp', '2b77a30d-e94f-47d4-b52f-f7e4868aecb0.tmp', '2ff333bf-599d-478b-bad3-9caad6bf8169.tmp', '2ffbc682-680f-46f7-b2cf-c46947bc064d.tmp', '325c05f7-6bac-4d7f-bcbd-64e3c57c87c9.tmp', '329ab3f9-5697-4301-97cb-d746defc468d.tmp', '3bbbb75a-8e44-412f-a89e-177773e96629.tmp', '3e377ef5-a85a-436d-9f68-be3ef22239a4.tmp', '41dd4d00-915e-45c5-9361-e41f0f191b73.tmp', '47d476d6-3ab3-49eb-a9a7-dd28f78668ee.tmp', '48674074-edcd-4762-907b-d2b0a9d385af.tmp', '48d0d047-7377-4f24-8d3e-66e06b2e5da4.tmp', '4bcbf42b-553d-45c6-9890-f454da5cf343.tmp', '4c8c68ea-69ee-410c-b5ef-32ccafaa69b5.tmp', '5df3de20-db42-4af9-87f8-56e4c9e26ee2.tmp', '6346ca83-c7f8-466b-9c31-47c22593eb41.tmp', '763a1da9-e38c-4900-8828-e11080367086.tmp', '7e42e5f2-4192-4704-91de-6e5eeb6ad670.tmp', '7f9cd1c7-0b28-49b9-b9f0-cd720f245174.tmp', '81fd6b1e-5a9c-4bf8-8005-1c71777a5597.tmp', '86f9d874-31d6-48a6-b529-34b9ad07262f.tmp', '890d1bc8-c377-4bab-b175-6b164cc9227d.tmp', '8eba2c64-ee4b-4f59-8675-a18dff44b251.tmp', '9e14a99f-3521-4a2f-9ec6-faa717efa059.tmp', 'a4cd0063-d6be-4c9b-9291-64ea3ce5a83d.tmp', 'a6b27409-4c9b-4f9e-ba05-90cec28c8b94.tmp', 'aac8b600-6950-47a0-ba91-9ccd272ac26c.tmp', 'ab602d15-4476-457a-8933-e3a1b477091a.tmp', 'b15cb273-11a5-4798-bb43-6eb4494ebec1.tmp', 'b8d9c0a7-fba2-468f-a6a9-a2e44a540ba6.tmp', 'c07d31c7-5a9a-4330-a2fd-8281a334965d.tmp', 'c625e159-30ba-4d40-8417-c9b52b72aa5a.tmp', 'cd3c5d8c-a558-48c9-9f46-fcaf47a8d8c0.tmp', 'chrome_BITS_14112_667090485', 'd4a95f95-0964-4706-bf95-c6d5cab3f3c7.tmp', 'db618950-e853-460f-84d8-b08b340d633f.tmp', 'e5886f3e-19aa-4157-8759-36f23b0b91ad.tmp', 'e83167b4-0ebf-4481-bde4-347be992d73e.tmp', 'edge_BITS_1140_1368013185', 'edge_BITS_16484_465024585', 'edge_BITS_4484_1587235400', 'faa43bb9-efd2-4d1b-8848-ca3f2d01c80c.tmp', 'fb4c879b-775d-4572-b579-74a981625036.tmp', 'fc4e1c7c-10ef-4b46-84d9-46f3143b6bcf.tmp', 'fc7ac604-a7dc-4fd7-9f98-920118408d75.tmp', 'fd5a8614-f3a2-4582-9c1a-e864ad16d871.tmp', 'pyright-16868-ZJA3WPjvWiQh', 'pyright-17384-1ei90FQFzUni', 'pyright-17384-U53i0MrZdWE1', 'pyright-17384-x0Z2bj8r46nQ', 'pyright-17384-Zx42ZtT6xTVp', 'pyright-732-f0UX2lQSC4Pn', 'python-languageserver-cancellation', 'vscode-stable-user-x64', 'WinGet']\n"
     ]
    }
   ],
   "source": [
    "print(os.listdir(temp_folder))"
   ]
  }
 ],
 "metadata": {
  "kernelspec": {
   "display_name": "Python 3",
   "language": "python",
   "name": "python3"
  },
  "language_info": {
   "codemirror_mode": {
    "name": "ipython",
    "version": 3
   },
   "file_extension": ".py",
   "mimetype": "text/x-python",
   "name": "python",
   "nbconvert_exporter": "python",
   "pygments_lexer": "ipython3",
   "version": "3.12.4"
  }
 },
 "nbformat": 4,
 "nbformat_minor": 2
}
